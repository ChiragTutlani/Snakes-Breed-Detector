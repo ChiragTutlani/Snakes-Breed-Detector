{
  "nbformat": 4,
  "nbformat_minor": 0,
  "metadata": {
    "kernelspec": {
      "display_name": "Python 3",
      "language": "python",
      "name": "python3"
    },
    "language_info": {
      "codemirror_mode": {
        "name": "ipython",
        "version": 3
      },
      "file_extension": ".py",
      "mimetype": "text/x-python",
      "name": "python",
      "nbconvert_exporter": "python",
      "pygments_lexer": "ipython3",
      "version": "3.7.9"
    },
    "colab": {
      "name": "Snakes Breed Detector.ipynb",
      "provenance": [],
      "collapsed_sections": [],
      "toc_visible": true,
      "include_colab_link": true
    },
    "accelerator": "GPU"
  },
  "cells": [
    {
      "cell_type": "markdown",
      "metadata": {
        "id": "view-in-github",
        "colab_type": "text"
      },
      "source": [
        "<a href=\"https://colab.research.google.com/github/ChiragTutlani/Snakes-Breed-Detector/blob/main/Snakes_Breed_Detector.ipynb\" target=\"_parent\"><img src=\"https://colab.research.google.com/assets/colab-badge.svg\" alt=\"Open In Colab\"/></a>"
      ]
    },
    {
      "cell_type": "code",
      "metadata": {
        "id": "EnMRbKaohe2i"
      },
      "source": [
        "import os\n",
        "import cv2 as cv\n",
        "from collections import Counter\n",
        "from sklearn.preprocessing import LabelEncoder\n",
        "import pandas as pd\n",
        "import tensorflow as tf\n",
        "from IPython.display import clear_output\n",
        "from tensorflow.keras import layers, Sequential\n",
        "import shutil\n",
        "import numpy as np\n",
        "from google.colab.patches import cv2_imshow\n",
        "import matplotlib.pyplot as plt"
      ],
      "execution_count": 1,
      "outputs": []
    },
    {
      "cell_type": "code",
      "metadata": {
        "id": "8cp29EkgjR-q",
        "colab": {
          "base_uri": "https://localhost:8080/"
        },
        "outputId": "0434d1b2-e2e0-4e7d-a468-887079e5d803"
      },
      "source": [
        "from google.colab import drive\n",
        "drive.mount('/content/drive')"
      ],
      "execution_count": 2,
      "outputs": [
        {
          "output_type": "stream",
          "text": [
            "Mounted at /content/drive\n"
          ],
          "name": "stdout"
        }
      ]
    },
    {
      "cell_type": "code",
      "metadata": {
        "id": "np7bYPK3lb2n"
      },
      "source": [
        "!unzip \"/content/drive/My Drive/dataset_snakes_hood.zip\" -d \"/content/drive/My Drive\""
      ],
      "execution_count": null,
      "outputs": []
    },
    {
      "cell_type": "code",
      "metadata": {
        "id": "2T0f27AZhe2q"
      },
      "source": [
        "IMAGE_HEIGHT = 256\n",
        "IMAGE_WIDTH = 256\n",
        "IMAGE_CHANNELS = 3\n",
        "BATCH_SIZE = 32\n",
        "\n",
        "train_img_folder = 'drive/MyDrive/dataset/train'\n",
        "train_structured_img_folder = 'drive/MyDrive/dataset/train_structured'\n",
        "train_structured_session_folder = 'train_structured'\n",
        "\n",
        "train_csv = 'drive/MyDrive/dataset/train.csv'"
      ],
      "execution_count": 3,
      "outputs": []
    },
    {
      "cell_type": "code",
      "metadata": {
        "id": "WiSDPzyyCF1w"
      },
      "source": [
        "def delete_dir_recursively(dir_name):\n",
        "  if not os.path.exists(dir_name):\n",
        "    return\n",
        "  \n",
        "  files = os.listdir(dir_name)\n",
        "\n",
        "  for filename in files:\n",
        "    if os.path.isdir(os.path.join(dir_name, filename)):\n",
        "      delete_dir_recursively(os.path.join(dir_name, filename))\n",
        "    else:\n",
        "      os.remove(os.path.join(dir_name, filename))\n",
        "\n",
        "  os.rmdir(dir_name)"
      ],
      "execution_count": 4,
      "outputs": []
    },
    {
      "cell_type": "code",
      "metadata": {
        "id": "cfrFSSnDhe2s"
      },
      "source": [
        "def reshape_images(source_folder, target_folder):\n",
        "    image_files = os.listdir(path=source_folder)\n",
        "    \n",
        "    for filename in image_files:\n",
        "        if '.jpg' in filename:\n",
        "            img = cv.imread(os.path.join(source_folder, filename),\n",
        "                            cv.IMREAD_COLOR)\n",
        "            img_reshaped = cv.resize(img, (IMAGE_WIDTH, IMAGE_HEIGHT),\n",
        "                                     cv.INTER_CUBIC)\n",
        "\n",
        "            if not os.path.exists(target_folder):\n",
        "                os.mkdir(target_folder)\n",
        "            \n",
        "            cv.imwrite(os.path.join(target_folder, filename), img_reshaped)"
      ],
      "execution_count": 5,
      "outputs": []
    },
    {
      "cell_type": "code",
      "metadata": {
        "id": "stLKn0aEhe2w"
      },
      "source": [
        "def augment_images(source_folder, target_folder):\n",
        "    image_files = os.listdir(path=source_folder)\n",
        "    \n",
        "    for i in range(len(image_files)):\n",
        "        filename = image_files[i]\n",
        "\n",
        "        if '.jpg' in filename:\n",
        "            img = cv.imread(os.path.join(source_folder, filename), cv.IMREAD_COLOR)\n",
        "            name_wo_ext, ext = filename.split('.')\n",
        "            ext = '.' + ext\n",
        "            \n",
        "            img_90 = cv.rotate(img, cv.ROTATE_90_CLOCKWISE)\n",
        "            img_180 = cv.rotate(img_90, cv.ROTATE_90_CLOCKWISE)\n",
        "            img_270 = cv.rotate(img_180, cv.ROTATE_90_CLOCKWISE)\n",
        "\n",
        "            if not os.path.exists(target_folder):\n",
        "                os.mkdir(target_folder)\n",
        "\n",
        "            cv.imwrite(os.path.join(target_folder, name_wo_ext + '_0' + ext), img)\n",
        "            cv.imwrite(os.path.join(target_folder, name_wo_ext + '_90' + ext), img_90)\n",
        "            cv.imwrite(os.path.join(target_folder, name_wo_ext + '_180' + ext), img_180)\n",
        "            cv.imwrite(os.path.join(target_folder, name_wo_ext + '_270' + ext), img_270)\n",
        "\n",
        "            if i%5==0:\n",
        "                clear_output(wait=True)\n",
        "                print(\"Total Files: {} | Files Augmented: {}\".format(len(image_files),i+1))"
      ],
      "execution_count": 6,
      "outputs": []
    },
    {
      "cell_type": "code",
      "metadata": {
        "id": "lDZcxbZvo4RO"
      },
      "source": [
        "def make_structured_dir(source_folder, target_folder, csv_file):\n",
        "    target_df = pd.read_csv(csv_file)\n",
        "\n",
        "    image_files = os.listdir(source_folder)\n",
        "    for i in range(len(image_files)):\n",
        "        filename = image_files[i]\n",
        "        if '.jpg' in filename:\n",
        "\n",
        "            filename_wo_ext = filename.split('.')[0]\n",
        "            if '_' in filename_wo_ext:\n",
        "                filename_wo_ext = filename_wo_ext.split('_')[0]\n",
        "            \n",
        "            new_folder_name = target_df[ target_df['image_id'] == filename_wo_ext]['breed'].iloc[0]\n",
        "            new_dir_name = os.path.join(target_folder, new_folder_name)\n",
        "\n",
        "            if not os.path.exists(target_folder):\n",
        "                os.mkdir(target_folder)\n",
        "\n",
        "            if not os.path.exists(new_dir_name):\n",
        "                os.mkdir(new_dir_name)\n",
        "\n",
        "            shutil.copy(os.path.join(source_folder, filename), \n",
        "                      os.path.join(new_dir_name, filename))\n",
        "        \n",
        "        if i%5==0:\n",
        "            clear_output(wait=True)\n",
        "            print(\"Total Files: {} | Files Structured: {}\".format(len(image_files),i+1))\n",
        "\n",
        "    clear_output(wait=True)\n",
        "    print(\"Total Files Done: {}\".format(len(image_files)))"
      ],
      "execution_count": 7,
      "outputs": []
    },
    {
      "cell_type": "code",
      "metadata": {
        "id": "S2qmAROyHUs-"
      },
      "source": [
        "def plot_train_validation_acc(history, epochs):\n",
        "    train_loss = np.array(history['loss'])\n",
        "    validation_loss = np.array(history['val_loss'])\n",
        "    train_acc = (1.0 - train_loss).reshape(-1,1)\n",
        "    validation_acc = (1.0 - validation_loss).reshape(-1,1)\n",
        "\n",
        "    epochs_range = np.array(range(1, epochs + 1)).reshape(-1,1)\n",
        "    \n",
        "    plt.plot(epochs_range, train_acc, label='Train',\n",
        "             linestyle='solid', color='blue', linewidth=1)\n",
        "    plt.plot(epochs_range, validation_acc, label='Validation',\n",
        "             linestyle='solid', color='green', linewidth=1)\n",
        "    plt.legend()\n",
        "    plt.show()"
      ],
      "execution_count": 42,
      "outputs": []
    },
    {
      "cell_type": "code",
      "metadata": {
        "id": "mw53JjBLp8w2",
        "colab": {
          "base_uri": "https://localhost:8080/"
        },
        "outputId": "7922fb1f-124f-42e4-e6e1-83469215adf9"
      },
      "source": [
        "make_structured_dir(train_img_folder, train_structured_session_folder, train_csv)"
      ],
      "execution_count": 12,
      "outputs": [
        {
          "output_type": "stream",
          "text": [
            "Total Files Done: 5508\n"
          ],
          "name": "stdout"
        }
      ]
    },
    {
      "cell_type": "code",
      "metadata": {
        "id": "q2s2WUQr-34E",
        "colab": {
          "base_uri": "https://localhost:8080/"
        },
        "outputId": "77c6483e-8682-4e67-fea6-a7eda6b5ffcc"
      },
      "source": [
        "train_image_dataset = tf.keras.preprocessing.image_dataset_from_directory(\n",
        "    train_structured_session_folder,\n",
        "    labels='inferred',\n",
        "    label_mode='categorical',\n",
        "    batch_size=BATCH_SIZE,\n",
        "    image_size=(IMAGE_WIDTH, IMAGE_HEIGHT),\n",
        "    validation_split=0.2,\n",
        "    subset='training',\n",
        "    seed=0\n",
        ")\n",
        "validation_image_dataset = tf.keras.preprocessing.image_dataset_from_directory(\n",
        "    train_structured_session_folder,\n",
        "    labels='inferred',\n",
        "    label_mode='categorical',\n",
        "    batch_size=BATCH_SIZE,\n",
        "    image_size=(IMAGE_WIDTH, IMAGE_HEIGHT),\n",
        "    validation_split=0.2,\n",
        "    subset='validation',\n",
        "    seed=0\n",
        ")"
      ],
      "execution_count": 13,
      "outputs": [
        {
          "output_type": "stream",
          "text": [
            "Found 5508 files belonging to 35 classes.\n",
            "Using 4407 files for training.\n",
            "Found 5508 files belonging to 35 classes.\n",
            "Using 1101 files for validation.\n"
          ],
          "name": "stdout"
        }
      ]
    },
    {
      "cell_type": "code",
      "metadata": {
        "id": "aYmWqZt0BDzB",
        "colab": {
          "base_uri": "https://localhost:8080/"
        },
        "outputId": "621a2940-16ba-4239-af2b-139691ec8f10"
      },
      "source": [
        "train_image_dataset"
      ],
      "execution_count": 14,
      "outputs": [
        {
          "output_type": "execute_result",
          "data": {
            "text/plain": [
              "<BatchDataset shapes: ((None, 256, 256, 3), (None, 35)), types: (tf.float32, tf.float32)>"
            ]
          },
          "metadata": {
            "tags": []
          },
          "execution_count": 14
        }
      ]
    },
    {
      "cell_type": "code",
      "metadata": {
        "colab": {
          "base_uri": "https://localhost:8080/"
        },
        "id": "f2gUYsVa9K6K",
        "outputId": "81cce655-5721-4e2c-df1b-9cd1b5ad724d"
      },
      "source": [
        "validation_image_dataset"
      ],
      "execution_count": 15,
      "outputs": [
        {
          "output_type": "execute_result",
          "data": {
            "text/plain": [
              "<BatchDataset shapes: ((None, 256, 256, 3), (None, 35)), types: (tf.float32, tf.float32)>"
            ]
          },
          "metadata": {
            "tags": []
          },
          "execution_count": 15
        }
      ]
    },
    {
      "cell_type": "code",
      "metadata": {
        "id": "FPAWWCUcHjZ_"
      },
      "source": [
        "rescale_and_augment = Sequential([\n",
        "    layers.experimental.preprocessing.Rescaling(1.0 / 255),\n",
        "    layers.experimental.preprocessing.RandomFlip(),\n",
        "    layers.experimental.preprocessing.RandomRotation((-0.25, 0.25))\n",
        "])"
      ],
      "execution_count": 16,
      "outputs": []
    },
    {
      "cell_type": "code",
      "metadata": {
        "colab": {
          "base_uri": "https://localhost:8080/"
        },
        "id": "BHX4VQ_Hl3GN",
        "outputId": "f3d8b238-560e-4e43-aeb1-acb6a1d607e4"
      },
      "source": [
        "model = Sequential()\n",
        "\n",
        "model.add(rescale_and_augment)\n",
        "\n",
        "model.add(layers.Conv2D(16, kernel_size=2, activation='relu', padding='valid'))\n",
        "model.add(layers.MaxPooling2D(pool_size=(2,2), padding='valid'))\n",
        "model.add(layers.Conv2D(32, kernel_size=2, activation='relu', padding='valid'))\n",
        "model.add(layers.MaxPooling2D(pool_size=(2,2), padding='valid'))\n",
        "model.add(layers.Conv2D(64, kernel_size=2, activation='relu', padding='valid'))\n",
        "model.add(layers.MaxPooling2D(pool_size=(2,2), padding='valid'))\n",
        "\n",
        "model.add(layers.Conv2D(128, kernel_size=2, activation='relu', padding='valid'))\n",
        "model.add(layers.MaxPooling2D(pool_size=(2,2), padding='valid'))\n",
        "\n",
        "model.add(layers.Conv2D(256, kernel_size=2, activation='relu', padding='valid'))\n",
        "model.add(layers.MaxPooling2D(pool_size=(2,2), padding='valid'))\n",
        "\n",
        "model.add(layers.GlobalAveragePooling2D())\n",
        "\n",
        "model.add(layers.Dropout(0.4))\n",
        "\n",
        "model.add(layers.Dense(units=35, activation='softmax'))\n",
        "model.build((None, IMAGE_HEIGHT, IMAGE_WIDTH, IMAGE_CHANNELS))\n",
        "model.summary()"
      ],
      "execution_count": 17,
      "outputs": [
        {
          "output_type": "stream",
          "text": [
            "Model: \"sequential_1\"\n",
            "_________________________________________________________________\n",
            "Layer (type)                 Output Shape              Param #   \n",
            "=================================================================\n",
            "sequential (Sequential)      (None, 256, 256, 3)       0         \n",
            "_________________________________________________________________\n",
            "conv2d (Conv2D)              (None, 255, 255, 16)      208       \n",
            "_________________________________________________________________\n",
            "max_pooling2d (MaxPooling2D) (None, 127, 127, 16)      0         \n",
            "_________________________________________________________________\n",
            "conv2d_1 (Conv2D)            (None, 126, 126, 32)      2080      \n",
            "_________________________________________________________________\n",
            "max_pooling2d_1 (MaxPooling2 (None, 63, 63, 32)        0         \n",
            "_________________________________________________________________\n",
            "conv2d_2 (Conv2D)            (None, 62, 62, 64)        8256      \n",
            "_________________________________________________________________\n",
            "max_pooling2d_2 (MaxPooling2 (None, 31, 31, 64)        0         \n",
            "_________________________________________________________________\n",
            "conv2d_3 (Conv2D)            (None, 30, 30, 128)       32896     \n",
            "_________________________________________________________________\n",
            "max_pooling2d_3 (MaxPooling2 (None, 15, 15, 128)       0         \n",
            "_________________________________________________________________\n",
            "conv2d_4 (Conv2D)            (None, 14, 14, 256)       131328    \n",
            "_________________________________________________________________\n",
            "max_pooling2d_4 (MaxPooling2 (None, 7, 7, 256)         0         \n",
            "_________________________________________________________________\n",
            "global_average_pooling2d (Gl (None, 256)               0         \n",
            "_________________________________________________________________\n",
            "dropout (Dropout)            (None, 256)               0         \n",
            "_________________________________________________________________\n",
            "dense (Dense)                (None, 35)                8995      \n",
            "=================================================================\n",
            "Total params: 183,763\n",
            "Trainable params: 183,763\n",
            "Non-trainable params: 0\n",
            "_________________________________________________________________\n"
          ],
          "name": "stdout"
        }
      ]
    },
    {
      "cell_type": "code",
      "metadata": {
        "colab": {
          "base_uri": "https://localhost:8080/"
        },
        "id": "6ZdIprRUoVjm",
        "outputId": "4d626fee-2a44-4b52-b8b8-88ade4e30c00"
      },
      "source": [
        "epochs = 30\n",
        "\n",
        "model.compile(loss=tf.keras.losses.MeanSquaredLogarithmicError())\n",
        "history = model.fit(train_image_dataset, validation_data=validation_image_dataset,epochs=epochs, verbose=2)"
      ],
      "execution_count": 18,
      "outputs": [
        {
          "output_type": "stream",
          "text": [
            "Epoch 1/30\n",
            "138/138 - 19s - loss: 0.0133 - val_loss: 0.0132\n",
            "Epoch 2/30\n",
            "138/138 - 11s - loss: 0.0133 - val_loss: 0.0132\n",
            "Epoch 3/30\n",
            "138/138 - 11s - loss: 0.0132 - val_loss: 0.0131\n",
            "Epoch 4/30\n",
            "138/138 - 11s - loss: 0.0132 - val_loss: 0.0132\n",
            "Epoch 5/30\n",
            "138/138 - 11s - loss: 0.0132 - val_loss: 0.0131\n",
            "Epoch 6/30\n",
            "138/138 - 11s - loss: 0.0132 - val_loss: 0.0131\n",
            "Epoch 7/30\n",
            "138/138 - 11s - loss: 0.0132 - val_loss: 0.0131\n",
            "Epoch 8/30\n",
            "138/138 - 11s - loss: 0.0132 - val_loss: 0.0131\n",
            "Epoch 9/30\n",
            "138/138 - 11s - loss: 0.0132 - val_loss: 0.0131\n",
            "Epoch 10/30\n",
            "138/138 - 12s - loss: 0.0131 - val_loss: 0.0131\n",
            "Epoch 11/30\n",
            "138/138 - 11s - loss: 0.0131 - val_loss: 0.0131\n",
            "Epoch 12/30\n",
            "138/138 - 12s - loss: 0.0131 - val_loss: 0.0131\n",
            "Epoch 13/30\n",
            "138/138 - 12s - loss: 0.0131 - val_loss: 0.0133\n",
            "Epoch 14/30\n",
            "138/138 - 12s - loss: 0.0131 - val_loss: 0.0131\n",
            "Epoch 15/30\n",
            "138/138 - 12s - loss: 0.0131 - val_loss: 0.0130\n",
            "Epoch 16/30\n",
            "138/138 - 12s - loss: 0.0131 - val_loss: 0.0130\n",
            "Epoch 17/30\n",
            "138/138 - 12s - loss: 0.0131 - val_loss: 0.0130\n",
            "Epoch 18/30\n",
            "138/138 - 12s - loss: 0.0131 - val_loss: 0.0132\n",
            "Epoch 19/30\n",
            "138/138 - 12s - loss: 0.0131 - val_loss: 0.0130\n",
            "Epoch 20/30\n",
            "138/138 - 12s - loss: 0.0131 - val_loss: 0.0130\n",
            "Epoch 21/30\n",
            "138/138 - 12s - loss: 0.0131 - val_loss: 0.0131\n",
            "Epoch 22/30\n",
            "138/138 - 12s - loss: 0.0131 - val_loss: 0.0130\n",
            "Epoch 23/30\n",
            "138/138 - 12s - loss: 0.0130 - val_loss: 0.0131\n",
            "Epoch 24/30\n",
            "138/138 - 12s - loss: 0.0131 - val_loss: 0.0130\n",
            "Epoch 25/30\n",
            "138/138 - 12s - loss: 0.0131 - val_loss: 0.0130\n",
            "Epoch 26/30\n",
            "138/138 - 12s - loss: 0.0130 - val_loss: 0.0130\n",
            "Epoch 27/30\n",
            "138/138 - 12s - loss: 0.0130 - val_loss: 0.0130\n",
            "Epoch 28/30\n",
            "138/138 - 12s - loss: 0.0130 - val_loss: 0.0130\n",
            "Epoch 29/30\n",
            "138/138 - 12s - loss: 0.0130 - val_loss: 0.0130\n",
            "Epoch 30/30\n",
            "138/138 - 11s - loss: 0.0130 - val_loss: 0.0130\n"
          ],
          "name": "stdout"
        }
      ]
    },
    {
      "cell_type": "code",
      "metadata": {
        "colab": {
          "base_uri": "https://localhost:8080/",
          "height": 265
        },
        "id": "TOq9ss3XwbVQ",
        "outputId": "a6a0c422-d42a-4545-da7d-648776f06d67"
      },
      "source": [
        "plot_train_validation_acc(history.history, epochs)"
      ],
      "execution_count": 43,
      "outputs": [
        {
          "output_type": "display_data",
          "data": {
            "image/png": "[encoded data removed]",
            "text/plain": [
              "<Figure size 432x288 with 1 Axes>"
            ]
          },
          "metadata": {
            "tags": [],
            "needs_background": "light"
          }
        }
      ]
    },
    {
      "cell_type": "markdown",
      "metadata": {
        "id": "Mz9UCXuhDj99"
      },
      "source": [
        "Delete Directory"
      ]
    },
    {
      "cell_type": "code",
      "metadata": {
        "id": "fkm_7Xd6BGbw"
      },
      "source": [
        "delete_dir_recursively('drive/MyDrive/dataset')"
      ],
      "execution_count": 10,
      "outputs": []
    },
    {
      "cell_type": "code",
      "metadata": {
        "id": "LCneS3V9_LLQ"
      },
      "source": [
        ""
      ],
      "execution_count": null,
      "outputs": []
    }
  ]
}